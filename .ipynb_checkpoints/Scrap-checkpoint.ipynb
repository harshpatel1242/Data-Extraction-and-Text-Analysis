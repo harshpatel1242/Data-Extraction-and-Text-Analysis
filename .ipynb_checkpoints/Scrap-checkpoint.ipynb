{
 "cells": [
  {
   "cell_type": "code",
   "execution_count": 32,
   "id": "86172427",
   "metadata": {},
   "outputs": [],
   "source": [
    "import requests\n",
    "from bs4 import BeautifulSoup\n",
    "import pandas as pd\n",
    "import numpy as np\n",
    "\n",
    "headers = {\n",
    "    'User-Agent': 'Mozilla/5.0 (Macintosh; Intel Mac OS X 10.12; rv:55.0) Gecko/20100101 Firefox/55.0',\n",
    "}"
   ]
  },
  {
   "cell_type": "code",
   "execution_count": 33,
   "id": "1cb708d7",
   "metadata": {},
   "outputs": [],
   "source": [
    "#xlsx....csv.....float to int\n",
    "inp = pd.DataFrame(pd.read_excel(\"D:/Home_Extras/Black_Coffer/InternshipTasks/Assignment/Input.xlsx\"))\n",
    "inp['URL_ID'] = inp['URL_ID'].astype(int)"
   ]
  },
  {
   "cell_type": "code",
   "execution_count": null,
   "id": "85f9026c",
   "metadata": {},
   "outputs": [],
   "source": [
    "#function creates txt file\n",
    "def createcsv(link, idd_conv):\n",
    "    page = requests.get(link,headers=headers)\n",
    "    soup = BeautifulSoup(page.content, \"html.parser\")\n",
    "    \n",
    "    Title= soup.find(\"title\").getText()\n",
    "    Content= soup.find(\"div\", class_=\"td-post-content\").getText()\n",
    "    #create new file add title\n",
    "    f = open(idd_conv,'w', encoding=\"utf-8\")\n",
    "    f.write(Title)\n",
    "    f.close\n",
    "    #append content to the created file    \n",
    "    with open(idd_conv,'a', encoding=\"utf-8\") as f:\n",
    "        f.write(Content)\n",
    "    f.close()    \n",
    "#commenting cuz aleardy done        \n",
    "for i in range(90, len(inp[\"URL_ID\"])):\n",
    "    link = inp[\"URL\"][i]\n",
    "    idd = inp[\"URL_ID\"][i]\n",
    "    #variable added to string\n",
    "    idd_conv = '%s.txt' % idd\n",
    "    createcsv(link, idd_conv)    "
   ]
  },
  {
   "cell_type": "code",
   "execution_count": 5,
   "id": "ee395759",
   "metadata": {},
   "outputs": [],
   "source": [
    "#Merging all stop words into one txt file\n",
    "file_names = ['StopWords_Auditor.txt', 'StopWords_Currencies.txt', 'StopWords_DatesandNumbers.txt', 'StopWords_Generic.txt', 'StopWords_GenericLong.txt', 'StopWords_Geographic.txt', 'StopWords_Names.txt']\n",
    "with open(\"stw.txt\", \"w\") as outfile:\n",
    "    for f in file_names:\n",
    "        with open(f) as infile:\n",
    "            outfile.write(infile.read())\n",
    "        outfile.write(\"\\n\")    "
   ]
  },
  {
   "cell_type": "code",
   "execution_count": 6,
   "id": "b9766d94",
   "metadata": {},
   "outputs": [],
   "source": [
    "stoplist = open(\"stw.txt\").read()"
   ]
  },
  {
   "cell_type": "code",
   "execution_count": 20,
   "id": "a7f10a52",
   "metadata": {},
   "outputs": [],
   "source": [
    "#cleaning\n",
    "def clean_text(each_file):\n",
    "    cleaned = [word for word in each_file.split(\" \") if word not in stoplist]\n",
    "    global ltt\n",
    "    #list_to_text \n",
    "    ltt= ' '.join(word for word in cleaned)\n",
    "    \n",
    "#funnction edits the original file with clean text\n",
    "def create_cleaned(ltt,idd_conv):\n",
    "    #edit the original file\n",
    "    f = open(idd_conv,'w', encoding=\"utf-8\")\n",
    "    f.write(ltt)\n",
    "    f.close()\n",
    "#run through each file    \n",
    "for i in range(len(inp[\"URL_ID\"])):  \n",
    "    idd = inp[\"URL_ID\"][i]\n",
    "    #variable added to string\n",
    "    idd_conv = '%s.txt' % idd\n",
    "    each_file = open(idd_conv, encoding=\"utf-8\").read()\n",
    "    clean_text(each_file)\n",
    "    create_cleaned(ltt, idd_conv)\n",
    "    #cleaned  for one file have to run for loop tto clean all files and saving file remaninng"
   ]
  },
  {
   "cell_type": "code",
   "execution_count": 14,
   "id": "7734b1e1",
   "metadata": {},
   "outputs": [],
   "source": [
    "pos = open('./PN/Neg.txt', encoding=\"utf-8\").read()\n",
    "clean_text(neg)\n",
    "create_cleaned(ltt, pos)"
   ]
  },
  {
   "cell_type": "code",
   "execution_count": null,
   "id": "b56ef4b0",
   "metadata": {},
   "outputs": [],
   "source": [
    "neg = open('./PN/Pos.txt', encoding=\"utf-8\").read()\n",
    "clean_text(pos)\n",
    "create_cleaned(ltt, neg)"
   ]
  }
 ],
 "metadata": {
  "kernelspec": {
   "display_name": "Python 3 (ipykernel)",
   "language": "python",
   "name": "python3"
  },
  "language_info": {
   "codemirror_mode": {
    "name": "ipython",
    "version": 3
   },
   "file_extension": ".py",
   "mimetype": "text/x-python",
   "name": "python",
   "nbconvert_exporter": "python",
   "pygments_lexer": "ipython3",
   "version": "3.8.8"
  }
 },
 "nbformat": 4,
 "nbformat_minor": 5
}
